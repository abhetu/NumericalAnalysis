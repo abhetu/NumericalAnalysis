{
  "nbformat": 4,
  "nbformat_minor": 0,
  "metadata": {
    "colab": {
      "provenance": [],
      "authorship_tag": "ABX9TyOwh9o92uhNJk1tz5hPIyu5",
      "include_colab_link": true
    },
    "kernelspec": {
      "name": "python3",
      "display_name": "Python 3"
    },
    "language_info": {
      "name": "python"
    }
  },
  "cells": [
    {
      "cell_type": "markdown",
      "metadata": {
        "id": "view-in-github",
        "colab_type": "text"
      },
      "source": [
        "<a href=\"https://colab.research.google.com/github/abhetu/NumericalAnalysis/blob/main/Lab_Romberg_Algorithm.ipynb\" target=\"_parent\"><img src=\"https://colab.research.google.com/assets/colab-badge.svg\" alt=\"Open In Colab\"/></a>"
      ]
    },
    {
      "cell_type": "markdown",
      "source": [
        "#Romberg Algorithm\n"
      ],
      "metadata": {
        "id": "mXm3y__B5vAc"
      }
    },
    {
      "cell_type": "code",
      "execution_count": 2,
      "metadata": {
        "id": "xQChwd7n4ERp"
      },
      "outputs": [],
      "source": [
        "import numpy as np\n",
        "import math\n",
        "\n",
        "# Romberg integration function\n",
        "def romberg(f, a, b, max_rows):\n",
        "    R = np.zeros((max_rows, max_rows))\n",
        "    h = b - a\n",
        "    R[0][0] = (h / 2) * (f(a) + f(b))\n",
        "\n",
        "    for i in range(1, max_rows):\n",
        "        h /= 2\n",
        "        sum_f = sum(f(a + (2 * k - 1) * h) for k in range(1, 2 ** (i - 1) + 1))\n",
        "        R[i][0] = 0.5 * R[i - 1][0] + h * sum_f\n",
        "\n",
        "        for j in range(1, i + 1):\n",
        "            R[i][j] = R[i][j - 1] + (R[i][j - 1] - R[i - 1][j - 1]) / (4 ** j - 1)\n",
        "\n",
        "    return R\n"
      ]
    },
    {
      "cell_type": "code",
      "source": [
        "# Q1: ∫₁.₃².¹⁹ x⁻¹ sin(x) dx\n",
        "def f1(x):\n",
        "    return math.sin(x) / x\n",
        "\n",
        "romberg_q1 = romberg(f1, 1.3, 2.19, 8)\n",
        "print(\"Q1: ∫₁.₃².¹⁹ x⁻¹ sin(x) dx\")\n",
        "print(romberg_q1)\n",
        "print(\"Approximate result:\", romberg_q1[-1][-1])\n",
        "print()\n"
      ],
      "metadata": {
        "colab": {
          "base_uri": "https://localhost:8080/"
        },
        "id": "Zkk2IfgT43bM",
        "outputId": "0f744c58-8283-471d-8345-677e8be45b9b"
      },
      "execution_count": 4,
      "outputs": [
        {
          "output_type": "stream",
          "name": "stdout",
          "text": [
            "Q1: ∫₁.₃².¹⁹ x⁻¹ sin(x) dx\n",
            "[[0.49530447 0.         0.         0.         0.         0.\n",
            "  0.         0.        ]\n",
            " [0.49880689 0.49997436 0.         0.         0.         0.\n",
            "  0.         0.        ]\n",
            " [0.4996795  0.49997037 0.4999701  0.         0.         0.\n",
            "  0.         0.        ]\n",
            " [0.49989746 0.49997012 0.4999701  0.4999701  0.         0.\n",
            "  0.         0.        ]\n",
            " [0.49995194 0.4999701  0.4999701  0.4999701  0.4999701  0.\n",
            "  0.         0.        ]\n",
            " [0.49996556 0.4999701  0.4999701  0.4999701  0.4999701  0.4999701\n",
            "  0.         0.        ]\n",
            " [0.49996897 0.4999701  0.4999701  0.4999701  0.4999701  0.4999701\n",
            "  0.4999701  0.        ]\n",
            " [0.49996982 0.4999701  0.4999701  0.4999701  0.4999701  0.4999701\n",
            "  0.4999701  0.4999701 ]]\n",
            "Approximate result: 0.49997010275573545\n",
            "\n"
          ]
        }
      ]
    },
    {
      "cell_type": "code",
      "source": [
        "# Q5: ∫₀^π (2 + sin(2x))⁻¹ dx\n",
        "def f5(x):\n",
        "    return 1 / (2 + math.sin(2 * x))\n",
        "\n",
        "romberg_q5 = romberg(f5, 0, math.pi, 8)\n",
        "print(\"Q5: ∫₀^π (2 + sin(2x))⁻¹ dx\")\n",
        "print(romberg_q5)\n",
        "print(\"Approximate result:\", romberg_q5[-1][-1])\n",
        "print()"
      ],
      "metadata": {
        "colab": {
          "base_uri": "https://localhost:8080/"
        },
        "id": "3oxmhBHY49C1",
        "outputId": "649bce76-9882-41fa-e7fc-cf6a7c83f049"
      },
      "execution_count": 5,
      "outputs": [
        {
          "output_type": "stream",
          "name": "stdout",
          "text": [
            "Q5: ∫₀^π (2 + sin(2x))⁻¹ dx\n",
            "[[1.57079633 0.         0.         0.         0.         0.\n",
            "  0.         0.        ]\n",
            " [1.57079633 1.57079633 0.         0.         0.         0.\n",
            "  0.         0.        ]\n",
            " [1.83259571 1.91986218 1.94313323 0.         0.         0.\n",
            "  0.         0.        ]\n",
            " [1.81389576 1.80766244 1.80018246 1.7979134  0.         0.\n",
            "  0.         0.        ]\n",
            " [1.81379937 1.81376724 1.81417422 1.81439631 1.81446095 0.\n",
            "  0.         0.        ]\n",
            " [1.81379936 1.81379936 1.81380151 1.81379559 1.81379323 1.81379258\n",
            "  0.         0.        ]\n",
            " [1.81379936 1.81379936 1.81379936 1.81379933 1.81379934 1.81379935\n",
            "  1.81379935 0.        ]\n",
            " [1.81379936 1.81379936 1.81379936 1.81379936 1.81379936 1.81379936\n",
            "  1.81379936 1.81379936]]\n",
            "Approximate result: 1.8137993643893011\n",
            "\n"
          ]
        }
      ]
    },
    {
      "cell_type": "code",
      "source": [
        "# Q6: ∫₀^π x cos(3x) dx using n = 6\n",
        "def f6(x):\n",
        "    return x * math.cos(3 * x)\n",
        "\n",
        "romberg_q6 = romberg(f6, 0, math.pi, 6)\n",
        "print(\"Q6: ∫₀^π x cos(3x) dx\")\n",
        "print(romberg_q6)\n",
        "print(\"Approximate result:\", romberg_q6[-1][-1])\n",
        "print()\n"
      ],
      "metadata": {
        "colab": {
          "base_uri": "https://localhost:8080/"
        },
        "id": "0jzWVoBW5EWS",
        "outputId": "1e0a83c3-8153-4db5-cbc5-5cda1316c225"
      },
      "execution_count": 6,
      "outputs": [
        {
          "output_type": "stream",
          "name": "stdout",
          "text": [
            "Q6: ∫₀^π x cos(3x) dx\n",
            "[[-4.9348022   0.          0.          0.          0.          0.        ]\n",
            " [-2.4674011  -1.64493407  0.          0.          0.          0.        ]\n",
            " [-0.36134253  0.340677    0.47305107  0.          0.          0.        ]\n",
            " [-0.24981116 -0.21263404 -0.24952144 -0.26099085  0.          0.        ]\n",
            " [-0.22876078 -0.22174398 -0.22235131 -0.22192004 -0.22176682  0.        ]\n",
            " [-0.22383559 -0.22219387 -0.22222386 -0.22222184 -0.22222302 -0.22222347]]\n",
            "Approximate result: -0.22222346635209828\n",
            "\n"
          ]
        }
      ]
    },
    {
      "cell_type": "code",
      "source": [
        "# Q7: ∫₀^∞ e^(−x)/(1 + x²) dx\n",
        "# Substitution x = -ln(y) ⇒ dx = -dy/y\n",
        "def f7_transformed(y):\n",
        "    if y <= 0:\n",
        "        return 0  # to avoid math domain error in log\n",
        "    x = -math.log(y)\n",
        "    return math.exp(-x) / (1 + x ** 2) * (1 / y)\n",
        "\n",
        "romberg_q7 = romberg(f7_transformed, 1e-10, 1, 8)  # Avoid y=0\n",
        "print(\"Q7: ∫₀^∞ e^(−x)/(1 + x²) dx (transformed)\")\n",
        "print(romberg_q7)\n",
        "print(\"Approximate result:\", romberg_q7[-1][-1])\n"
      ],
      "metadata": {
        "colab": {
          "base_uri": "https://localhost:8080/"
        },
        "id": "7rw8NVem5Igs",
        "outputId": "6d45daba-4162-4212-ad68-1d4cbf901711"
      },
      "execution_count": 7,
      "outputs": [
        {
          "output_type": "stream",
          "name": "stdout",
          "text": [
            "Q7: ∫₀^∞ e^(−x)/(1 + x²) dx (transformed)\n",
            "[[0.50094128 0.         0.         0.         0.         0.\n",
            "  0.         0.        ]\n",
            " [0.5882051  0.61729304 0.         0.         0.         0.\n",
            "  0.         0.        ]\n",
            " [0.61055711 0.61800778 0.61805543 0.         0.         0.\n",
            "  0.         0.        ]\n",
            " [0.61765987 0.62002746 0.62016211 0.62019555 0.         0.\n",
            "  0.         0.        ]\n",
            " [0.62007098 0.62087468 0.62093116 0.62094337 0.6209463  0.\n",
            "  0.         0.        ]\n",
            " [0.62093027 0.62121669 0.6212395  0.62124439 0.62124557 0.62124586\n",
            "  0.         0.        ]\n",
            " [0.62124846 0.62135453 0.62136372 0.62136569 0.62136616 0.62136628\n",
            "  0.62136631 0.        ]\n",
            " [0.62136996 0.62141046 0.62141419 0.62141499 0.62141518 0.62141523\n",
            "  0.62141524 0.62141524]]\n",
            "Approximate result: 0.6214152431734643\n"
          ]
        }
      ]
    }
  ]
}