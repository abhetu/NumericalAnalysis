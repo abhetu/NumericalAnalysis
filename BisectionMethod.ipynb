{
  "nbformat": 4,
  "nbformat_minor": 0,
  "metadata": {
    "colab": {
      "provenance": [],
      "include_colab_link": true
    },
    "kernelspec": {
      "name": "python3",
      "display_name": "Python 3"
    },
    "language_info": {
      "name": "python"
    }
  },
  "cells": [
    {
      "cell_type": "markdown",
      "metadata": {
        "id": "view-in-github",
        "colab_type": "text"
      },
      "source": [
        "<a href=\"https://colab.research.google.com/github/abhetu/NumericalAnalysis/blob/main/BisectionMethod.ipynb\" target=\"_parent\"><img src=\"https://colab.research.google.com/assets/colab-badge.svg\" alt=\"Open In Colab\"/></a>"
      ]
    },
    {
      "cell_type": "markdown",
      "source": [
        "#Bisection Method\n",
        "This code solves the problem $f(x) = 2 - x^2$ in the interval $[1,2]$\n",
        "\n"
      ],
      "metadata": {
        "id": "B9f2vqWuOw5l"
      }
    },
    {
      "cell_type": "code",
      "source": [
        "#Question no. 7\n",
        "import math\n",
        "\n",
        "def f(x):\n",
        "    return x**3 + 3*x - 1\n",
        "\n",
        "def g(x):\n",
        "    return x**3 - 2 * math.sin(x)\n",
        "\n",
        "def h(x):\n",
        "    return x + 10 - x * math.cosh(50 / x)\n",
        "\n",
        "def bisection_method(func, a, b, tol=10**-8, nmax=1000):\n",
        "    fa = func(a)\n",
        "    fb = func(b)\n",
        "    error = b - a\n",
        "\n",
        "    for n in range(nmax):\n",
        "        error /= 2\n",
        "        c = (a + b) / 2\n",
        "        fc = func(c)\n",
        "\n",
        "        if abs(error) < tol or abs(fc) < tol:\n",
        "            return c, n+1\n",
        "        if fa * fc < 0:\n",
        "            b = c\n",
        "            fb = fc\n",
        "        else:\n",
        "            a = c\n",
        "            fa = fc\n",
        "\n",
        "    return None, nmax\n",
        "\n",
        "root_f, steps_f = bisection_method(f, 0, 1)\n",
        "root_g, steps_g = bisection_method(g, 0.5, 2)\n",
        "root_h, steps_h = bisection_method(h, 120, 130)\n",
        "\n",
        "print(f\"Root of f(x) = x^3 + 3x - 1 in [0,1]: x = {root_f}, Steps: {steps_f}\")\n",
        "print(f\"Root of g(x) = x^3 - 2sin(x) in [0.5,2]: x = {root_g}, Steps: {steps_g}\")\n",
        "print(f\"Root of h(x) = x + 10 - x cosh(50/x) in [120,130]: x = {root_h}, Steps: {steps_h}\")\n"
      ],
      "metadata": {
        "colab": {
          "base_uri": "https://localhost:8080/"
        },
        "id": "d2ymghSfXzoh",
        "outputId": "843dc7ae-284b-409c-99b3-a82e76be09f9"
      },
      "execution_count": null,
      "outputs": [
        {
          "output_type": "stream",
          "name": "stdout",
          "text": [
            "Root of f(x) = x^3 + 3x - 1 in [0,1]: x = 0.32218535244464874, Steps: 26\n",
            "Root of g(x) = x^3 - 2sin(x) in [0.5,2]: x = 1.2361839301884174, Steps: 27\n",
            "Root of h(x) = x + 10 - x cosh(50/x) in [120,130]: x = 126.63243591785431, Steps: 24\n"
          ]
        }
      ]
    },
    {
      "cell_type": "code",
      "source": [
        "#Question no. 5\n",
        "import math\n",
        "\n",
        "def f(lam):\n",
        "    return lam * math.cosh(50 / lam) - (lam + 10)\n",
        "\n",
        "a = 1\n",
        "b = 2\n",
        "nmax = 1000\n",
        "tol = 10 ** (-8)\n",
        "\n",
        "fa = f(a)\n",
        "fb = f(b)\n",
        "error = b - a\n",
        "\n",
        "for n in range(0, nmax):\n",
        "    error = error / 2\n",
        "    c = (a + b) / 2\n",
        "    fc = f(c)\n",
        "\n",
        "    if abs(error) < tol:\n",
        "        break\n",
        "    if fa * fc < 0:\n",
        "        b = c\n",
        "        fb = fc\n",
        "    else:\n",
        "        a = c\n",
        "        fa = fc\n",
        "\n",
        "print(f\"Root of λ: λ = {c}, f(λ) = {fc}\")\n"
      ],
      "metadata": {
        "colab": {
          "base_uri": "https://localhost:8080/"
        },
        "id": "NI1IqzeGXhnL",
        "outputId": "f73c9cbd-3900-41b6-cde0-c68f5587481c"
      },
      "execution_count": null,
      "outputs": [
        {
          "output_type": "stream",
          "name": "stdout",
          "text": [
            "Root of λ: λ = 1.9999999925494194, f(λ) = 72004905763.12582\n"
          ]
        }
      ]
    },
    {
      "cell_type": "code",
      "source": [
        "#Question no. 4\n",
        "import math\n",
        "\n",
        "def f(x):\n",
        "    return 6 * (math.exp(x) - x) - (6 + 3 * x ** 2 + 2 * x ** 3)\n",
        "\n",
        "a = -1\n",
        "b = 1\n",
        "nmax = 1000\n",
        "tol = 10 ** (-8)\n",
        "\n",
        "fa = f(a)\n",
        "fb = f(b)\n",
        "error = b - a\n",
        "\n",
        "for n in range(0, nmax):\n",
        "    error = error / 2\n",
        "    c = (a + b) / 2\n",
        "    fc = f(c)\n",
        "\n",
        "    if abs(error) < tol:\n",
        "        break\n",
        "    if fa * fc < 0:\n",
        "        b = c\n",
        "        fb = fc\n",
        "    else:\n",
        "        a = c\n",
        "        fa = fc\n",
        "\n",
        "print(f\"Root in [-1,1]: x = {c}, f(x) = {fc}\")\n"
      ],
      "metadata": {
        "colab": {
          "base_uri": "https://localhost:8080/"
        },
        "id": "J3VCV2IVXQcn",
        "outputId": "471f5ff4-afda-43a3-a27d-c53c63558a93"
      },
      "execution_count": null,
      "outputs": [
        {
          "output_type": "stream",
          "name": "stdout",
          "text": [
            "Root in [-1,1]: x = 0.9999999925494194, f(x) = -0.6903090166519448\n"
          ]
        }
      ]
    },
    {
      "cell_type": "code",
      "source": [
        "#Question no. 3\n",
        "import math\n",
        "\n",
        "# Define the function f(x) = tan(x) - x\n",
        "def f(x):\n",
        "    return math.tan(x) - x\n",
        "\n",
        "# Interval [4,5]\n",
        "a = 4\n",
        "b = 5\n",
        "nmax = 1000\n",
        "tol = 10 ** (-8)\n",
        "\n",
        "fa = f(a)\n",
        "fb = f(b)\n",
        "error = b - a\n",
        "\n",
        "for n in range(0, nmax):\n",
        "    error = error / 2\n",
        "    c = (a + b) / 2\n",
        "    fc = f(c)\n",
        "\n",
        "    if abs(error) < tol:\n",
        "        break\n",
        "    if fa * fc < 0:\n",
        "        b = c\n",
        "        fb = fc\n",
        "    else:\n",
        "        a = c\n",
        "        fa = fc\n",
        "\n",
        "print(f\"Root in [4,5]: x = {c}, f(x) = {fc}\")\n"
      ],
      "metadata": {
        "colab": {
          "base_uri": "https://localhost:8080/"
        },
        "id": "boOghv2sW9Qz",
        "outputId": "ba17e9db-25cc-4ddc-c16e-fb8ec0ef4bc0"
      },
      "execution_count": null,
      "outputs": [
        {
          "output_type": "stream",
          "name": "stdout",
          "text": [
            "Root in [4,5]: x = 4.493409462273121, f(x) = 8.811348628512405e-08\n"
          ]
        }
      ]
    },
    {
      "cell_type": "code",
      "source": [
        "#Question no. 2\n",
        "a = 0\n",
        "b = 1\n",
        "nmax = 1000\n",
        "tol = 10 ** (-8)\n",
        "\n",
        "fa = 9 * a ** 4 + 18 * a ** 3 + 38 * a ** 2 - 57 * a + 14\n",
        "fb = 9 * b ** 4 + 18 * b ** 3 + 38 * b ** 2 - 57 * b + 14\n",
        "error = b - a\n",
        "\n",
        "for n in range(0, nmax):\n",
        "    error = error / 2\n",
        "    c = (a + b) / 2\n",
        "    fc = 9 * c ** 4 + 18 * c ** 3 + 38 * c ** 2 - 57 * c + 14\n",
        "\n",
        "    if abs(error) < tol:\n",
        "        break\n",
        "    if fa * fc < 0:\n",
        "        b = c\n",
        "        fb = fc\n",
        "    else:\n",
        "        a = c\n",
        "        fa = fc\n",
        "\n",
        "print(f\"Root: x = {c}, f(x) = {fc}\")\n"
      ],
      "metadata": {
        "colab": {
          "base_uri": "https://localhost:8080/"
        },
        "id": "RDOZndpHWj06",
        "outputId": "17457ba4-3bfc-4d7f-fe81-705938816b90"
      },
      "execution_count": null,
      "outputs": [
        {
          "output_type": "stream",
          "name": "stdout",
          "text": [
            "Root: x = 0.3333333358168602, f(x) = -6.043248745868368e-08\n"
          ]
        }
      ]
    },
    {
      "cell_type": "code",
      "source": [
        "#Question no. 1\n",
        "a = -2\n",
        "b = 2\n",
        "nmax = 1000\n",
        "tol = 10 ** (-8)\n",
        "\n",
        "fa = a ** 3 - 2 * a + 1 - a ** 2\n",
        "fb = b ** 3 - 2 * b + 1 - b ** 2\n",
        "error = b - a\n",
        "\n",
        "for n in range(0, nmax):\n",
        "    error = error / 2\n",
        "    c = (a + b) / 2\n",
        "    fc = c ** 3 - 2 * c + 1 - c ** 2\n",
        "\n",
        "    if abs(error) < tol:\n",
        "        break\n",
        "    if fa * fc < 0:\n",
        "        b = c\n",
        "        fb = fc\n",
        "    else:\n",
        "        a = c\n",
        "        fa = fc\n",
        "\n",
        "print(f\"Intersection: x = {c}, y = {c ** 2}\")\n"
      ],
      "metadata": {
        "colab": {
          "base_uri": "https://localhost:8080/"
        },
        "id": "CinzBkgnVgM_",
        "outputId": "9db3443e-5b07-4356-8dd0-cf59ac261e5a"
      },
      "execution_count": null,
      "outputs": [
        {
          "output_type": "stream",
          "name": "stdout",
          "text": [
            "Intersection: x = -1.2469796016812325, y = 1.554958127009085\n"
          ]
        }
      ]
    },
    {
      "cell_type": "code",
      "execution_count": null,
      "metadata": {
        "colab": {
          "base_uri": "https://localhost:8080/"
        },
        "id": "-bwCwftMOuFa",
        "outputId": "a8eea017-e9e2-4e97-a9b4-4320d0d70bad"
      },
      "outputs": [
        {
          "output_type": "stream",
          "name": "stdout",
          "text": [
            "1.5\n",
            "1.25\n",
            "1.375\n",
            "1.4375\n",
            "1.40625\n",
            "1.421875\n",
            "1.4140625\n",
            "1.41796875\n",
            "1.416015625\n",
            "1.4150390625\n",
            "1.41455078125\n",
            "1.414306640625\n",
            "1.4141845703125\n",
            "1.41424560546875\n",
            "1.414215087890625\n",
            "1.4141998291015625\n",
            "1.4142074584960938\n",
            "1.4142112731933594\n",
            "1.4142131805419922\n",
            "1.4142141342163086\n",
            "1.4142136573791504\n",
            "1.4142134189605713\n",
            "1.4142135381698608\n",
            "1.4142135977745056\n",
            "1.4142135679721832\n",
            "1.414213553071022\n"
          ]
        }
      ],
      "source": [
        "a = 1\n",
        "b = 2\n",
        "nmax = 1000\n",
        "tol = 10 ** (-8)\n",
        "\n",
        "fa = 2 - a ** 2\n",
        "fb = 2 - b ** 2\n",
        "error = b - a\n",
        "\n",
        "for n in range(0, nmax):\n",
        "  error = error/2\n",
        "  c = (a +b) / 2\n",
        "  fc = 2 - c ** 2\n",
        "\n",
        "  if abs(error) < tol:\n",
        "    break\n",
        "  if fa * fc < 0:\n",
        "    b = c\n",
        "    fb = fc\n",
        "  else:\n",
        "    a = c\n",
        "    fa = fc\n",
        "\n",
        "  print(c)"
      ]
    }
  ]
}