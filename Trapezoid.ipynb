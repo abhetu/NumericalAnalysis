{
  "cells": [
    {
      "cell_type": "markdown",
      "metadata": {
        "id": "view-in-github",
        "colab_type": "text"
      },
      "source": [
        "<a href=\"https://colab.research.google.com/github/abhetu/NumericalAnalysis/blob/main/Trapezoid.ipynb\" target=\"_parent\"><img src=\"https://colab.research.google.com/assets/colab-badge.svg\" alt=\"Open In Colab\"/></a>"
      ]
    },
    {
      "cell_type": "markdown",
      "metadata": {
        "id": "QwN26Sr5fSQY"
      },
      "source": [
        "# Composite Trapezoidal Rule in Python - Anubhav Bhetuwal Lab\n",
        "2.We define a function trapezoid_uniform(f, a, b, n) which uses the rule on a function `f` over the interval `[a, b]` using `n` subintervals.\n",
        "\n",
        "We test it on the following integrals:\n",
        "a.0∫πsinx dx\n",
        "b.0∫1exdx\n",
        "c.0∫1arctanx dx\n",
        "\n",
        "We compare the results with the exact values from the answer book."
      ]
    },
    {
      "cell_type": "code",
      "execution_count": null,
      "metadata": {
        "colab": {
          "base_uri": "https://localhost:8080/"
        },
        "id": "Air9rleHf2Vp",
        "outputId": "89a6b1b2-7e72-45c5-cec6-a40dee743c83"
      },
      "outputs": [
        {
          "name": "stdout",
          "output_type": "stream",
          "text": [
            "∫₀^π sin(x) dx\n",
            "  Trapezoidal Approximation: 1.999543\n",
            "  Exact Value: 2.000000\n",
            "  Absolute Error: 0.000457\n",
            "\n",
            "∫₀¹ e^x dx\n",
            "  Trapezoidal Approximation: 1.718322\n",
            "  Exact Value: 1.718282\n",
            "  Absolute Error: 0.000040\n",
            "\n",
            "∫₀¹ arctan(x) dx\n",
            "  Trapezoidal Approximation: 0.438813\n",
            "  Exact Value: 0.438825\n",
            "  Absolute Error: 0.000012\n",
            "\n"
          ]
        }
      ],
      "source": [
        "import math\n",
        "from scipy.integrate import quad\n",
        "\n",
        "#Question 1\n",
        "def trapezoid_uniform(f, a, b, n):\n",
        "    h = (b - a) / n\n",
        "    total = (f(a) + f(b)) / 2\n",
        "    for i in range(1, n):\n",
        "        x = a + i * h\n",
        "        total += f(x)\n",
        "    return total * h\n",
        "\n",
        "\n",
        "functions = [\n",
        "    (math.sin, 0, math.pi, \"∫₀^π sin(x) dx\"),\n",
        "    (math.exp, 0, 1, \"∫₀¹ e^x dx\"),\n",
        "    (math.atan, 0, 1, \"∫₀¹ arctan(x) dx\"),\n",
        "]\n",
        "\n",
        "n = 60\n",
        "\n",
        "for f, a, b, description in functions:\n",
        "    approx = trapezoid_uniform(f, a, b, n)\n",
        "    exact, _ = quad(f, a, b)\n",
        "    error = abs(approx - exact)\n",
        "\n",
        "    print(description)\n",
        "    print(f\"  Trapezoidal Approximation: {approx:.6f}\")\n",
        "    print(f\"  Exact Value: {exact:.6f}\")\n",
        "    print(f\"  Absolute Error: {error:.6f}\\n\")\n"
      ]
    },
    {
      "cell_type": "markdown",
      "metadata": {
        "id": "v9Qp9HOwh22O"
      },
      "source": [
        "# Numerical Evaluation of Improper Integrals with Substitution\n",
        "To solve the following:\n",
        "a.0∫∞e−x2dx=√π2,using x= −lnt(Gaussian Probability Integral)\n",
        "b.0∫∞x−1sinx dx=π2,using x= t−1(Sine Integral)\n",
        "c.0∫∞sinx2dx=12√π2,   using x=tan t(Fresnel Sine Integral).\n",
        "We use `scipy.integrate.quad` to perform numerical integration on both the original and substituted forms, comparing them to known analytical values.\n"
      ]
    },
    {
      "cell_type": "code",
      "execution_count": null,
      "metadata": {
        "colab": {
          "base_uri": "https://localhost:8080/"
        },
        "id": "DLTQJy-djk8N",
        "outputId": "7e0ebd34-7592-43d5-e2c5-53bc3abfbc4e"
      },
      "outputs": [
        {
          "name": "stdout",
          "output_type": "stream",
          "text": [
            "a\n",
            "   Direct Approximation      : 0.886227\n",
            "   Substitution Approximation: 0.886227\n",
            "   Exact Value               : 0.886227\n",
            "\n",
            "b:Highly oscillatory\n",
            "   Direct Approximation      : 1.658348\n",
            "   Substitution Approximation: 4658.954080\n",
            "   Exact Value               : 1.570796\n",
            "\n",
            "c:Exponential growth near pi/2\n",
            "   Direct Approximation      : 0.583672\n",
            "   Substitution Approximation: -515068081327.762268\n",
            "   Exact Value               : 0.626657\n"
          ]
        }
      ],
      "source": [
        "import math\n",
        "\n",
        "def trapezoid_uniform(f, a, b, n):\n",
        "    h = (b - a) / n\n",
        "    total = (f(a) + f(b)) / 2\n",
        "    for i in range(1, n):\n",
        "        x = a + i * h\n",
        "        total += f(x)\n",
        "    return total * h\n",
        "\n",
        "def f_gaussian(x):\n",
        "    return math.exp(-x**2)\n",
        "\n",
        "# Change of variable\n",
        "def f_gaussian_sub(t):\n",
        "    if t <= 0 or t >= 1:\n",
        "        return 0\n",
        "    x = -math.log(t)\n",
        "    return math.exp(-x**2) / t\n",
        "\n",
        "def f_sine(x):\n",
        "    return math.sin(x) / x if x != 0 else 1\n",
        "\n",
        "# Substitution\n",
        "def f_sine_sub(t):\n",
        "    if t == 0:\n",
        "        return 0\n",
        "    return math.sin(1 / t) / t\n",
        "\n",
        "def f_fresnel(x):\n",
        "    return math.sin(x**2)\n",
        "\n",
        "# Substitution\n",
        "def f_fresnel_sub(t):\n",
        "    if t >= math.pi / 2:\n",
        "        return 0\n",
        "    x = math.tan(t)\n",
        "    return math.sin(x**2) / (math.cos(t)**2)  # sec²(t)\n",
        "\n",
        "# Parameters\n",
        "n = 10000\n",
        "LARGE = 10\n",
        "EPS = 1e-8\n",
        "\n",
        "# a. Gaussian Integral\n",
        "gauss_direct = trapezoid_uniform(f_gaussian, 0, LARGE, n)\n",
        "gauss_sub = trapezoid_uniform(f_gaussian_sub, EPS, 1 - EPS, n)\n",
        "gauss_exact = math.sqrt(math.pi) / 2\n",
        "\n",
        "# b. Sine Integral\n",
        "sine_direct = trapezoid_uniform(f_sine, EPS, LARGE, n)\n",
        "sine_sub = trapezoid_uniform(f_sine_sub, EPS, 1, n)\n",
        "sine_exact = math.pi / 2\n",
        "\n",
        "# c. Fresnel Sine Integral\n",
        "fresnel_direct = trapezoid_uniform(f_fresnel, 0, LARGE, n)\n",
        "fresnel_sub = trapezoid_uniform(f_fresnel_sub, 0, math.pi / 2 - EPS, n)\n",
        "fresnel_exact = 0.5 * math.sqrt(math.pi / 2)\n",
        "\n",
        "\n",
        "print(\"a\")\n",
        "print(f\"   Direct Approximation      : {gauss_direct:.6f}\")\n",
        "print(f\"   Substitution Approximation: {gauss_sub:.6f}\")\n",
        "print(f\"   Exact Value               : {gauss_exact:.6f}\")\n",
        "print()\n",
        "\n",
        "print(\"b:Highly oscillatory\")\n",
        "print(f\"   Direct Approximation      : {sine_direct:.6f}\")\n",
        "print(f\"   Substitution Approximation: {sine_sub:.6f}\")\n",
        "print(f\"   Exact Value               : {sine_exact:.6f}\")\n",
        "print()\n",
        "\n",
        "print(\"c:Exponential growth near pi/2\")\n",
        "print(f\"   Direct Approximation      : {fresnel_direct:.6f}\")\n",
        "print(f\"   Substitution Approximation: {fresnel_sub:.6f}\")\n",
        "print(f\"   Exact Value               : {fresnel_exact:.6f}\")\n"
      ]
    }
  ],
  "metadata": {
    "colab": {
      "provenance": [],
      "include_colab_link": true
    },
    "kernelspec": {
      "display_name": "Python 3",
      "name": "python3"
    },
    "language_info": {
      "name": "python"
    }
  },
  "nbformat": 4,
  "nbformat_minor": 0
}