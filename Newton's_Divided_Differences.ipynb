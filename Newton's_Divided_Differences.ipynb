{
  "nbformat": 4,
  "nbformat_minor": 0,
  "metadata": {
    "colab": {
      "provenance": [],
      "authorship_tag": "ABX9TyPNOQ+eON0GrxXbkxA2tfeC",
      "include_colab_link": true
    },
    "kernelspec": {
      "name": "python3",
      "display_name": "Python 3"
    },
    "language_info": {
      "name": "python"
    }
  },
  "cells": [
    {
      "cell_type": "markdown",
      "metadata": {
        "id": "view-in-github",
        "colab_type": "text"
      },
      "source": [
        "<a href=\"https://colab.research.google.com/github/abhetu/NumericalAnalysis/blob/main/Newton's_Divided_Differences.ipynb\" target=\"_parent\"><img src=\"https://colab.research.google.com/assets/colab-badge.svg\" alt=\"Open In Colab\"/></a>"
      ]
    },
    {
      "cell_type": "code",
      "source": [
        " import numpy as np"
      ],
      "metadata": {
        "id": "K1jOly2UrEW8"
      },
      "execution_count": 2,
      "outputs": []
    },
    {
      "cell_type": "code",
      "execution_count": 7,
      "metadata": {
        "colab": {
          "base_uri": "https://localhost:8080/"
        },
        "id": "NxjxOcv3p_4R",
        "outputId": "be8941d9-2b7d-4f70-c2ed-f51919dacce0"
      },
      "outputs": [
        {
          "output_type": "stream",
          "name": "stdout",
          "text": [
            "0\n",
            "1\n",
            "[[ 8. -1.]\n",
            " [ 0.  0.]]\n"
          ]
        }
      ],
      "source": [
        "x = [0,8]\n",
        "y = [8,0]\n",
        "n = len(x)\n",
        "A = np.array([[0.0]* n for _ in range(n)])\n",
        "\n",
        "for i in range(0,n):\n",
        "  print(i)\n",
        "  A[i][0] = y[i]\n",
        "\n",
        "for j in range(1,n):\n",
        "  for i in range(0, n-j):\n",
        "    A[i][j] = (A[i+1][j-1] - A[i][j-1])/(x[i+j]-x[i])\n",
        "\n",
        "print(A)"
      ]
    },
    {
      "cell_type": "code",
      "source": [
        "import sympy as sp\n",
        "x_sym = sp.Symbol('x')\n",
        "polynomial = A[0][n-1]\n",
        "\n",
        "for i in range(n-2,-1,-1):\n",
        "  polynomial = A[0][i] + (x_sym - x[i])*polynomial\n",
        "\n",
        "print(polynomial)"
      ],
      "metadata": {
        "colab": {
          "base_uri": "https://localhost:8080/"
        },
        "id": "LayrFkjNt_Rd",
        "outputId": "51943f44-f8ab-4958-e003-1a3513b2708f"
      },
      "execution_count": 9,
      "outputs": [
        {
          "output_type": "stream",
          "name": "stdout",
          "text": [
            "8.0 - 1.0*x\n"
          ]
        }
      ]
    }
  ]
}