{
  "nbformat": 4,
  "nbformat_minor": 0,
  "metadata": {
    "colab": {
      "provenance": [],
      "authorship_tag": "ABX9TyM1Hii1qn3tE60NYqWInFKE",
      "include_colab_link": true
    },
    "kernelspec": {
      "name": "python3",
      "display_name": "Python 3"
    },
    "language_info": {
      "name": "python"
    }
  },
  "cells": [
    {
      "cell_type": "markdown",
      "metadata": {
        "id": "view-in-github",
        "colab_type": "text"
      },
      "source": [
        "<a href=\"https://colab.research.google.com/github/abhetu/NumericalAnalysis/blob/main/MyFirstLab.ipynb\" target=\"_parent\"><img src=\"https://colab.research.google.com/assets/colab-badge.svg\" alt=\"Open In Colab\"/></a>"
      ]
    },
    {
      "cell_type": "code",
      "execution_count": null,
      "metadata": {
        "colab": {
          "base_uri": "https://localhost:8080/"
        },
        "id": "ts6F-HhxkVfA",
        "outputId": "60d97114-659a-4954-9dba-85196b15f9cf"
      },
      "outputs": [
        {
          "output_type": "stream",
          "name": "stdout",
          "text": [
            "2.9289682539682538\n"
          ]
        }
      ],
      "source": [
        "SUM = 0\n",
        "for i in range(1,11):\n",
        "  SUM = SUM +(1/i)\n",
        "print (SUM)"
      ]
    },
    {
      "cell_type": "code",
      "source": [
        "SUM = 0\n",
        "for n in range(1,201):\n",
        "  SUM = SUM +(1/(n**2))\n",
        "print (SUM)"
      ],
      "metadata": {
        "colab": {
          "base_uri": "https://localhost:8080/"
        },
        "id": "zYpqoArNk3Le",
        "outputId": "1166f7ee-0d63-4911-e6dc-078fdf419189"
      },
      "execution_count": null,
      "outputs": [
        {
          "output_type": "stream",
          "name": "stdout",
          "text": [
            "1.6399465460149971\n"
          ]
        }
      ]
    },
    {
      "cell_type": "code",
      "source": [
        "SUM = 0\n",
        "for j in range(1,11):\n",
        "  SUM = SUM +(j**(1/2))\n",
        "print (SUM)"
      ],
      "metadata": {
        "colab": {
          "base_uri": "https://localhost:8080/"
        },
        "id": "L_Tc3EsPlpTk",
        "outputId": "395dd80d-3663-49a7-8f1d-ebb910af0533"
      },
      "execution_count": null,
      "outputs": [
        {
          "output_type": "stream",
          "name": "stdout",
          "text": [
            "22.4682781862041\n"
          ]
        }
      ]
    },
    {
      "cell_type": "code",
      "source": [
        "SUM = 0\n",
        "for n in range(1,6):\n",
        "  SUM = SUM +(1/math.factorial(n))\n",
        "print (SUM)"
      ],
      "metadata": {
        "colab": {
          "base_uri": "https://localhost:8080/"
        },
        "id": "dvmC1G6wlttU",
        "outputId": "58f7e39b-2278-46be-a3c2-c9d0a1674ffd"
      },
      "execution_count": null,
      "outputs": [
        {
          "output_type": "stream",
          "name": "stdout",
          "text": [
            "1.7166666666666668\n"
          ]
        }
      ]
    }
  ]
}